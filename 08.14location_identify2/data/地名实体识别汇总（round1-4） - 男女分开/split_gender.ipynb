{
 "cells": [
  {
   "cell_type": "code",
   "execution_count": 1,
   "metadata": {},
   "outputs": [],
   "source": [
    "import os\n",
    "import pandas as pd\n",
    "import shutil"
   ]
  },
  {
   "cell_type": "code",
   "execution_count": 2,
   "metadata": {},
   "outputs": [
    {
     "data": {
      "text/html": [
       "<div>\n",
       "<style scoped>\n",
       "    .dataframe tbody tr th:only-of-type {\n",
       "        vertical-align: middle;\n",
       "    }\n",
       "\n",
       "    .dataframe tbody tr th {\n",
       "        vertical-align: top;\n",
       "    }\n",
       "\n",
       "    .dataframe thead th {\n",
       "        text-align: right;\n",
       "    }\n",
       "</style>\n",
       "<table border=\"1\" class=\"dataframe\">\n",
       "  <thead>\n",
       "    <tr style=\"text-align: right;\">\n",
       "      <th></th>\n",
       "      <th>访谈员编号</th>\n",
       "      <th>转录稿文件名</th>\n",
       "      <th>个人代号（昵称）</th>\n",
       "      <th>第几轮访谈</th>\n",
       "      <th>信息汇总表文件名</th>\n",
       "      <th>访谈编号</th>\n",
       "      <th>性别</th>\n",
       "      <th>出生年份</th>\n",
       "      <th>是否出生在深圳</th>\n",
       "      <th>抵深年份</th>\n",
       "      <th>学历</th>\n",
       "      <th>身份（职业/行业）</th>\n",
       "      <th>主要生活区域</th>\n",
       "      <th>关内关外</th>\n",
       "    </tr>\n",
       "  </thead>\n",
       "  <tbody>\n",
       "    <tr>\n",
       "      <th>0</th>\n",
       "      <td>Lily</td>\n",
       "      <td>WLL_文已校对（桂笑言）</td>\n",
       "      <td>文</td>\n",
       "      <td>1</td>\n",
       "      <td>20211024_文_访谈信息汇总表-桂笑言</td>\n",
       "      <td>NaN</td>\n",
       "      <td>男</td>\n",
       "      <td>2001</td>\n",
       "      <td>是</td>\n",
       "      <td>2001</td>\n",
       "      <td>NaN</td>\n",
       "      <td>学生</td>\n",
       "      <td>NaN</td>\n",
       "      <td>NaN</td>\n",
       "    </tr>\n",
       "    <tr>\n",
       "      <th>1</th>\n",
       "      <td>NaN</td>\n",
       "      <td>WLL_黄师傅-已校对（彭楚玥）</td>\n",
       "      <td>黄师傅</td>\n",
       "      <td>1</td>\n",
       "      <td>20211014_黄师傅-访谈信息汇总表-彭楚玥-20211023</td>\n",
       "      <td>NaN</td>\n",
       "      <td>男</td>\n",
       "      <td>未知</td>\n",
       "      <td>否</td>\n",
       "      <td>NaN</td>\n",
       "      <td>NaN</td>\n",
       "      <td>包子店老板（网约车司机）</td>\n",
       "      <td>NaN</td>\n",
       "      <td>NaN</td>\n",
       "    </tr>\n",
       "  </tbody>\n",
       "</table>\n",
       "</div>"
      ],
      "text/plain": [
       "  访谈员编号            转录稿文件名 个人代号（昵称）  第几轮访谈                           信息汇总表文件名  \\\n",
       "0  Lily     WLL_文已校对（桂笑言）        文      1             20211024_文_访谈信息汇总表-桂笑言   \n",
       "1   NaN  WLL_黄师傅-已校对（彭楚玥）      黄师傅      1  20211014_黄师傅-访谈信息汇总表-彭楚玥-20211023   \n",
       "\n",
       "  访谈编号 性别  出生年份 是否出生在深圳  抵深年份   学历     身份（职业/行业） 主要生活区域  关内关外  \n",
       "0  NaN  男  2001       是  2001  NaN            学生    NaN   NaN  \n",
       "1  NaN  男    未知       否   NaN  NaN  包子店老板（网约车司机）    NaN   NaN  "
      ]
     },
     "execution_count": 2,
     "metadata": {},
     "output_type": "execute_result"
    }
   ],
   "source": [
    "df_info = pd.read_csv('../../raw_data/interviewee_infomation/roundAll_info_final.csv')\n",
    "df_info.head(2)"
   ]
  },
  {
   "cell_type": "code",
   "execution_count": 6,
   "metadata": {},
   "outputs": [],
   "source": [
    "# df_info.nunique()"
   ]
  },
  {
   "cell_type": "code",
   "execution_count": 3,
   "metadata": {},
   "outputs": [
    {
     "data": {
      "text/plain": [
       "['LZY_张氏父女',\n",
       " 'XRH_02_ZhengFj',\n",
       " '3_SZTUWWX_邓先生王女士',\n",
       " '3_SZTUWWX_谭女士霍先生',\n",
       " '10_SZTU-lx_凹凸曼&李先生']"
      ]
     },
     "execution_count": 3,
     "metadata": {},
     "output_type": "execute_result"
    }
   ],
   "source": [
    "script_withmorePeople = df_info[\"转录稿文件名\"].value_counts()[df_info[\"转录稿文件名\"].value_counts()>1].index.tolist()\n",
    "\n",
    "script_withmorePeople.extend(['3_SZTUWWX_邓先生王女士','3_SZTUWWX_谭女士霍先生','10_SZTU-lx_凹凸曼&李先生'])\n",
    "script_withmorePeople"
   ]
  },
  {
   "cell_type": "code",
   "execution_count": 4,
   "metadata": {},
   "outputs": [],
   "source": [
    "my_dir = [ 'round1_csv',\n",
    " 'round2_csv',\n",
    " 'round3_csv',\n",
    " 'round4_csv',\n",
    " ]\n",
    "\n",
    "## mydir用完后已经被删除了\n",
    "\n",
    "# for dir in my_dir:\n",
    "#     for file in os.listdir(f\"../地名实体识别汇总（round1-4）/{dir}\"):\n",
    "#         file_name, file_extension = os.path.splitext(file)\n",
    "\n",
    "#         source_file_path = os.path.join(f\"../地名实体识别汇总（round1-4）/{dir}\", file)\n",
    "\n",
    "#         if file_name in script_withmorePeople:\n",
    "#             destination_file_path = os.path.join(\"others\",file)\n",
    "#             shutil.copy(source_file_path, destination_file_path)\n",
    "#             continue\n",
    "\n",
    "#         # print(file_name)\n",
    "#         gender = df_info[df_info[\"转录稿文件名\"]==file_name][\"性别\"].values[0]\n",
    "#         # print(gender)\n",
    "\n",
    "#         if gender == \"男\":\n",
    "#             destination_file_path = os.path.join(\"man\", file)\n",
    "#         elif gender == \"女\":\n",
    "#             destination_file_path = os.path.join(\"woman\",file)\n",
    "#         # else:\n",
    "#         #     destination_file_path = os.path.join(\"others\",file)\n",
    "\n",
    "#         shutil.copy(source_file_path, destination_file_path)"
   ]
  }
 ],
 "metadata": {
  "kernelspec": {
   "display_name": "scrap",
   "language": "python",
   "name": "python3"
  },
  "language_info": {
   "codemirror_mode": {
    "name": "ipython",
    "version": 3
   },
   "file_extension": ".py",
   "mimetype": "text/x-python",
   "name": "python",
   "nbconvert_exporter": "python",
   "pygments_lexer": "ipython3",
   "version": "3.10.14"
  }
 },
 "nbformat": 4,
 "nbformat_minor": 2
}

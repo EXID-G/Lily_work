{
 "cells": [
  {
   "cell_type": "code",
   "execution_count": 13,
   "metadata": {},
   "outputs": [],
   "source": [
    "import spacy\n",
    "\n",
    "# 加载预训练的中文模型\n",
    "# nlp = spacy.load(\"zh_core_web_md\")\n",
    "nlp = spacy.load(\"zh_core_web_lg\")\n"
   ]
  },
  {
   "cell_type": "code",
   "execution_count": 14,
   "metadata": {},
   "outputs": [
    {
     "name": "stdout",
     "output_type": "stream",
     "text": [
      "北京市 GPE\n",
      "上海市 GPE\n",
      "黄浦区 GPE\n",
      "广州市 GPE\n",
      "省: 无\n",
      "市: 北京市, 上海市, 广州市\n",
      "区: 黄浦区\n",
      "街道: 无\n",
      "详细地址: 无\n"
     ]
    }
   ],
   "source": [
    "\n",
    "# 示例田野调查谈话文本\n",
    "text = \"\"\"\n",
    "我在北京市朝阳区三里屯街道的一个咖啡馆里采访了一位居民。\n",
    "这位居民提到了他曾在上海市黄浦区南京东路居住过。\n",
    "另外，我们还去了广州市天河区体育西路，那里变化很大。\n",
    "\"\"\"\n",
    "\n",
    "# 使用spacy进行命名实体识别\n",
    "doc = nlp(text)\n",
    "\n",
    "# 定义地名分类\n",
    "places = {\"省\": [], \"市\": [], \"区\": [], \"街道\": [], \"详细地址\": []}\n",
    "\n",
    "for ent in doc.ents:\n",
    "    if ent.label_ == \"GPE\":  # 地理实体\n",
    "        print(ent.text, ent.label_)\n",
    "        entity_text = ent.text\n",
    "        if \"省\" in entity_text:\n",
    "            places[\"省\"].append(entity_text)\n",
    "        elif \"市\" in entity_text:\n",
    "            places[\"市\"].append(entity_text)\n",
    "        elif \"区\" in entity_text:\n",
    "            places[\"区\"].append(entity_text)\n",
    "        elif \"街道\" in entity_text or \"路\" in entity_text:\n",
    "            places[\"街道\"].append(entity_text)\n",
    "        else:\n",
    "            places[\"详细地址\"].append(entity_text)\n",
    "\n",
    "# 打印分类结果\n",
    "for category, names in places.items():\n",
    "    print(f\"{category}: {', '.join(names) if names else '无'}\")\n"
   ]
  },
  {
   "cell_type": "code",
   "execution_count": null,
   "metadata": {},
   "outputs": [],
   "source": []
  },
  {
   "cell_type": "code",
   "execution_count": null,
   "metadata": {},
   "outputs": [],
   "source": []
  }
 ],
 "metadata": {
  "kernelspec": {
   "display_name": "base",
   "language": "python",
   "name": "python3"
  },
  "language_info": {
   "codemirror_mode": {
    "name": "ipython",
    "version": 3
   },
   "file_extension": ".py",
   "mimetype": "text/x-python",
   "name": "python",
   "nbconvert_exporter": "python",
   "pygments_lexer": "ipython3",
   "version": "3.10.14"
  }
 },
 "nbformat": 4,
 "nbformat_minor": 2
}

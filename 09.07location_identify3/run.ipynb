{
 "cells": [
  {
   "cell_type": "code",
   "execution_count": 1,
   "metadata": {},
   "outputs": [],
   "source": [
    "import os\n",
    "import pandas as pd"
   ]
  },
  {
   "cell_type": "code",
   "execution_count": 2,
   "metadata": {},
   "outputs": [],
   "source": [
    "region_sz = ['罗湖区','福田区','南山区','盐田区','宝安区','龙华区','龙岗区','坪山区','光明区']"
   ]
  },
  {
   "cell_type": "markdown",
   "metadata": {},
   "source": [
    "# Age"
   ]
  },
  {
   "cell_type": "code",
   "execution_count": 20,
   "metadata": {},
   "outputs": [],
   "source": [
    "## 把罗湖与罗湖区的数据合在一起，然后删除罗湖区的数据\n",
    "def operate_region(df):\n",
    "    df_new = df.copy(deep=True)\n",
    "    for i in region_sz:\n",
    "        df_new[\"location_name\"]=df_new[\"location_name\"].str.replace(i,i[0:-1])\n",
    "    return df_new"
   ]
  },
  {
   "cell_type": "code",
   "execution_count": 21,
   "metadata": {},
   "outputs": [],
   "source": [
    "# stage_csv = pd.DataFrame()\n",
    "def run_in_group(your_list,root_dir):\n",
    "    for dir_name in your_list:\n",
    "        file_list = os.listdir(os.path.join(root_dir, dir_name))\n",
    "        stage_csv = pd.DataFrame()\n",
    "\n",
    "        ## concat all csv files in one age group\n",
    "        for file in file_list:\n",
    "            one_csv = pd.read_csv(os.path.join(root_dir, dir_name, file), encoding='utf-16', sep='\\t')\n",
    "            stage_csv = pd.concat([stage_csv, one_csv], axis=0)\n",
    "\n",
    "        ## \"罗湖\" 与 \"罗湖区\" 处理\n",
    "        stage_csv2 = operate_region(stage_csv)\n",
    "\n",
    "        final_csv = stage_csv2.groupby(\"location_name\").size().reset_index(name='counts').sort_values(by='counts', ascending=False).reset_index(drop=True)\n",
    "        final_csv_rmsz = final_csv.loc[final_csv[\"location_name\"]!=\"深圳\",:]\n",
    "\n",
    "        final_csv_rmsz.to_csv(f\"{root_dir}/{dir_name}.csv\", index=False,sep='\\t',encoding='utf-16')\n",
    "    # break"
   ]
  },
  {
   "cell_type": "code",
   "execution_count": 22,
   "metadata": {},
   "outputs": [],
   "source": [
    "def allcsv_to_onexlsx(xlsx_name,root_dir):\n",
    "    # 创建一个ExcelWriter对象\n",
    "    with pd.ExcelWriter(os.path.join(root_dir, xlsx_name), engine='xlsxwriter') as writer:\n",
    "        tmp_list = os.listdir(root_dir)[0:-1]\n",
    "        csv_list = [i for i in tmp_list if \".csv\" in i]\n",
    "\n",
    "        for file in csv_list:\n",
    "            file_path = os.path.join(root_dir, file)\n",
    "            one_csv = pd.read_csv(file_path, encoding='utf-16', sep='\\t')\n",
    "            # 将每个CSV文件写入Excel的不同工作表中\n",
    "            sheet_name = f\"{file.split('.')[0]}\"\n",
    "            one_csv.to_excel(writer, sheet_name=sheet_name, index=False)\n"
   ]
  },
  {
   "cell_type": "code",
   "execution_count": 17,
   "metadata": {},
   "outputs": [
    {
     "data": {
      "text/plain": [
       "['1950-1960',\n",
       " '1960-1970',\n",
       " '1970-1980',\n",
       " '1980-1990',\n",
       " '1990-2000',\n",
       " '2000+',\n",
       " 'less1950',\n",
       " 'others']"
      ]
     },
     "execution_count": 17,
     "metadata": {},
     "output_type": "execute_result"
    }
   ],
   "source": [
    "age_dir = \"data/地名实体识别汇总（round1-4） - 出生年份分开\"\n",
    "age_list = os.listdir(age_dir)\n",
    "age_list = [i for i in age_list if \".\" not in i]\n",
    "age_list"
   ]
  },
  {
   "cell_type": "code",
   "execution_count": null,
   "metadata": {},
   "outputs": [],
   "source": [
    "run_in_group(age_list,age_dir)\n",
    "allcsv_to_onexlsx('出生年份频率汇总.xlsx',age_dir)"
   ]
  },
  {
   "cell_type": "markdown",
   "metadata": {},
   "source": [
    "# gender"
   ]
  },
  {
   "cell_type": "code",
   "execution_count": 23,
   "metadata": {},
   "outputs": [
    {
     "data": {
      "text/plain": [
       "['man', 'others', 'woman']"
      ]
     },
     "execution_count": 23,
     "metadata": {},
     "output_type": "execute_result"
    }
   ],
   "source": [
    "gender_dir = \"data/地名实体识别汇总（round1-4） - 男女分开\"\n",
    "gender_list = os.listdir(gender_dir)\n",
    "gender_list = [i for i in gender_list if \".\" not in i]\n",
    "gender_list"
   ]
  },
  {
   "cell_type": "code",
   "execution_count": 24,
   "metadata": {},
   "outputs": [],
   "source": [
    "run_in_group(gender_list,gender_dir)\n",
    "allcsv_to_onexlsx('性别频率汇总.xlsx',gender_dir)"
   ]
  },
  {
   "cell_type": "markdown",
   "metadata": {},
   "source": [
    "# Come to sz"
   ]
  },
  {
   "cell_type": "code",
   "execution_count": 25,
   "metadata": {},
   "outputs": [
    {
     "data": {
      "text/plain": [
       "['1970-1980', '1980-1990', '1990-2000', '2000-2010', '2010+', 'others']"
      ]
     },
     "execution_count": 25,
     "metadata": {},
     "output_type": "execute_result"
    }
   ],
   "source": [
    "comesz_dir = \"data/地名实体识别汇总（round1-4） - 抵深年份分开\"\n",
    "comesz_list = os.listdir(comesz_dir)\n",
    "comesz_list = [i for i in comesz_list if \".\" not in i]\n",
    "comesz_list"
   ]
  },
  {
   "cell_type": "code",
   "execution_count": 27,
   "metadata": {},
   "outputs": [],
   "source": [
    "run_in_group(comesz_list,comesz_dir)\n",
    "allcsv_to_onexlsx('来深频率汇总.xlsx',comesz_dir)"
   ]
  }
 ],
 "metadata": {
  "kernelspec": {
   "display_name": "scrap",
   "language": "python",
   "name": "python3"
  },
  "language_info": {
   "codemirror_mode": {
    "name": "ipython",
    "version": 3
   },
   "file_extension": ".py",
   "mimetype": "text/x-python",
   "name": "python",
   "nbconvert_exporter": "python",
   "pygments_lexer": "ipython3",
   "version": "3.10.14"
  }
 },
 "nbformat": 4,
 "nbformat_minor": 2
}

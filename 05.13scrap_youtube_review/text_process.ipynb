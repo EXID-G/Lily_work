{
 "cells": [
  {
   "cell_type": "code",
   "execution_count": null,
   "metadata": {},
   "outputs": [
    {
     "name": "stderr",
     "output_type": "stream",
     "text": [
      "d:\\Python\\envs\\scrap\\lib\\site-packages\\openpyxl\\worksheet\\_reader.py:329: UserWarning: Data Validation extension is not supported and will be removed\n",
      "  warn(msg)\n"
     ]
    }
   ],
   "source": [
    "import pandas as pd\n",
    "df = pd.read_excel(\"YouTube-videos-new.xlsx\")\n",
    "\n",
    "# 应用该函数到 DataFrame 的 URL 列\n",
    "df['video_id'] = df['视频网址'].apply(lambda x : x[x.find('v=')+2:])\n",
    "df.head(3)\n",
    "\n",
    "# df.to_csv('YouTube-videos-new.csv', index=False,encoding='utf-8-sig')\n",
    "# df.to_excel('YouTube-videos-new.xlsx', index=False)"
   ]
  },
  {
   "cell_type": "markdown",
   "metadata": {},
   "source": [
    "# 读取json"
   ]
  },
  {
   "cell_type": "code",
   "execution_count": 2,
   "metadata": {},
   "outputs": [],
   "source": [
    "# import json\n",
    "\n",
    "# # 读取JSON文件\n",
    "# with open(\"data\\comment_100\\*.json\", \"r\") as file:\n",
    "#     data = json.load(file)\n",
    "\n",
    "# # 提取\"items\"字段对应的值\n",
    "# items = data[\"items\"]\n",
    "\n",
    "# # 将数据转换为DataFrame\n",
    "# df = pd.DataFrame(items)"
   ]
  },
  {
   "cell_type": "code",
   "execution_count": 3,
   "metadata": {},
   "outputs": [],
   "source": [
    "import json\n",
    "import glob\n",
    "import os\n",
    "\n",
    "# 定义匹配JSON文件的模式\n",
    "pattern = os.path.join(\"data\", \"comment_100\", \"*.json\")\n",
    "\n",
    "# 获取所有匹配的JSON文件列表\n",
    "json_files = glob.glob(pattern)\n",
    "\n",
    "# 初始化一个空的DataFrame\n",
    "df = pd.DataFrame()\n",
    "\n",
    "# 遍历所有JSON文件\n",
    "for json_file in json_files:\n",
    "    # 读取每个JSON文件\n",
    "    with open(json_file, \"r\", encoding='utf-8') as file:\n",
    "        data = json.load(file)\n",
    "        \n",
    "        # 提取\"items\"字段对应的值\n",
    "        items = data[\"items\"]\n",
    "        \n",
    "        # 将数据转换为临时DataFrame\n",
    "        temp_df = pd.DataFrame(items)\n",
    "        \n",
    "        # 合并到主DataFrame中\n",
    "        df = pd.concat([df, temp_df], ignore_index=True)\n",
    "\n"
   ]
  },
  {
   "cell_type": "code",
   "execution_count": 4,
   "metadata": {},
   "outputs": [
    {
     "name": "stdout",
     "output_type": "stream",
     "text": [
      "<class 'pandas.core.frame.DataFrame'>\n",
      "RangeIndex: 3471 entries, 0 to 3470\n",
      "Data columns (total 5 columns):\n",
      " #   Column   Non-Null Count  Dtype \n",
      "---  ------   --------------  ----- \n",
      " 0   kind     3471 non-null   object\n",
      " 1   etag     3471 non-null   object\n",
      " 2   id       3471 non-null   object\n",
      " 3   snippet  3471 non-null   object\n",
      " 4   replies  1397 non-null   object\n",
      "dtypes: object(5)\n",
      "memory usage: 135.7+ KB\n"
     ]
    }
   ],
   "source": [
    "# df.sample(5)\n",
    "df.info()"
   ]
  },
  {
   "cell_type": "markdown",
   "metadata": {},
   "source": [
    "用户名，发表评论的时间，点赞数量，具体评论"
   ]
  },
  {
   "cell_type": "code",
   "execution_count": 5,
   "metadata": {},
   "outputs": [
    {
     "data": {
      "text/plain": [
       "{'channelId': 'UC1soWWg79S9TUdSjzAHHftw',\n",
       " 'videoId': '-XcGW_L1N0k',\n",
       " 'topLevelComment': {'kind': 'youtube#comment',\n",
       "  'etag': 'dZfmAuWSKwl3JfHDEc5ippdRkbI',\n",
       "  'id': 'Ugx365--jk4WSqtsdO14AaABAg',\n",
       "  'snippet': {'channelId': 'UC1soWWg79S9TUdSjzAHHftw',\n",
       "   'videoId': '-XcGW_L1N0k',\n",
       "   'textDisplay': 'Thanks for watching<a href=\"UC1soWWg79S9TUdSjzAHHftw/JkxFY6LmDY2A8gPWhLZI\"></a> <br>Subscribe to our channel for more videos in China🇨🇳 Our China playlist: <a href=\"https://www.youtube.com/playlist?list=PL9QdAxhqglB93tWtt3PsWWSOJycnPNj0m\">https://youtube.com/playlist?list=PL9QdAxhqglB93tWtt3PsWWSOJycnPNj0m&amp;si=ydl-nM1ITJOaOnT6</a>',\n",
       "   'textOriginal': 'Thanks for watching \\nSubscribe to our channel for more videos in China🇨🇳 Our China playlist: https://youtube.com/playlist?list=PL9QdAxhqglB93tWtt3PsWWSOJycnPNj0m&si=ydl-nM1ITJOaOnT6',\n",
       "   'authorDisplayName': '@JetLagWarriors',\n",
       "   'authorProfileImageUrl': 'https://yt3.ggpht.com/vmfmpvBgVWylDuTXSR4p4t76Ax0GFlBikWngY4dAoxj_911Jm2hOfy-cZ7egdRarVJluWFrh=s48-c-k-c0x00ffffff-no-rj',\n",
       "   'authorChannelUrl': 'http://www.youtube.com/@JetLagWarriors',\n",
       "   'authorChannelId': {'value': 'UC1soWWg79S9TUdSjzAHHftw'},\n",
       "   'canRate': True,\n",
       "   'viewerRating': 'none',\n",
       "   'likeCount': 476,\n",
       "   'publishedAt': '2023-12-12T17:01:57Z',\n",
       "   'updatedAt': '2023-12-15T16:58:14Z'}},\n",
       " 'canReply': True,\n",
       " 'totalReplyCount': 69,\n",
       " 'isPublic': True}"
      ]
     },
     "execution_count": 5,
     "metadata": {},
     "output_type": "execute_result"
    }
   ],
   "source": [
    "# find wanted fields in `snippet`\n",
    "df.iloc[0,3]"
   ]
  },
  {
   "cell_type": "markdown",
   "metadata": {},
   "source": [
    "# 提取顶级评论"
   ]
  },
  {
   "cell_type": "code",
   "execution_count": 6,
   "metadata": {},
   "outputs": [],
   "source": [
    "def get_basic(x):\n",
    "    y = pd.Series()\n",
    "    y[\"video_id\"] = x[\"snippet\"].get(\"topLevelComment\").get(\"snippet\").get(\"videoId\")\n",
    "    y[\"content\"] = x[\"snippet\"].get(\"topLevelComment\").get(\"snippet\").get(\"textDisplay\")\n",
    "    y[\"review_id\"] =  x[\"snippet\"].get(\"topLevelComment\").get(\"id\")# 应为对与二级评论，它带有parent_id,我们可以通过这个parent_id找到对应的review_id\n",
    "    y[\"parent_id\"] = 0  # 应为是1级评论，所以没有parent_id 都赋值为0\n",
    "    y[\"reviewer_name\"] = x[\"snippet\"].get(\"topLevelComment\").get(\"snippet\").get(\"authorDisplayName\")\n",
    "    y[\"published_time\"] = x[\"snippet\"].get(\"topLevelComment\").get(\"snippet\").get(\"publishedAt\")\n",
    "    y[\"updated_time\"] = x[\"snippet\"].get(\"topLevelComment\").get(\"snippet\").get(\"updatedAt\")\n",
    "    y[\"total_reply_count\"] = x[\"snippet\"].get(\"totalReplyCount\")  # 用户针对顶级评论提交的回复总数。\n",
    "    y[\"level\"] = 1    # 顶级评论（1级评论）\n",
    "    y[\"likecount\"]  = x[\"snippet\"].get(\"topLevelComment\").get(\"snippet\").get(\"likeCount\")\n",
    "    return y\n",
    "\n",
    "df_basic = df.apply(get_basic,axis = 1)"
   ]
  },
  {
   "cell_type": "code",
   "execution_count": 7,
   "metadata": {},
   "outputs": [
    {
     "name": "stdout",
     "output_type": "stream",
     "text": [
      "<class 'pandas.core.frame.DataFrame'>\n",
      "RangeIndex: 3471 entries, 0 to 3470\n",
      "Data columns (total 10 columns):\n",
      " #   Column             Non-Null Count  Dtype \n",
      "---  ------             --------------  ----- \n",
      " 0   video_id           3471 non-null   object\n",
      " 1   content            3471 non-null   object\n",
      " 2   review_id          3471 non-null   object\n",
      " 3   parent_id          3471 non-null   int64 \n",
      " 4   reviewer_name      3471 non-null   object\n",
      " 5   published_time     3471 non-null   object\n",
      " 6   updated_time       3471 non-null   object\n",
      " 7   total_reply_count  3471 non-null   int64 \n",
      " 8   level              3471 non-null   int64 \n",
      " 9   likecount          3471 non-null   int64 \n",
      "dtypes: int64(4), object(6)\n",
      "memory usage: 271.3+ KB\n"
     ]
    }
   ],
   "source": [
    "df_basic.head(3)\n",
    "df_basic.info()"
   ]
  },
  {
   "cell_type": "markdown",
   "metadata": {},
   "source": [
    "# 提取对顶级评论的回复"
   ]
  },
  {
   "cell_type": "markdown",
   "metadata": {},
   "source": [
    "level：一级评论为0，二级评论为1（并且在`parent_id`标注其父评论）"
   ]
  },
  {
   "cell_type": "markdown",
   "metadata": {},
   "source": [
    "find wanted fields in `replies`: replies 对象是一个容器，其中包含评论的回复列表（如果存在）。但是该列表中包含的回复数量有限。除非列表中的项数等于 snippet.totalReplyCount 属性的值，否则该回复列表只是顶级评论可用回复总数的一部分。要检索顶级评论的所有回复，您需要调用 comments.list 方法并使用 parentId 请求参数来标识要检索其回复的评论\n"
   ]
  },
  {
   "cell_type": "code",
   "execution_count": 8,
   "metadata": {},
   "outputs": [
    {
     "data": {
      "text/plain": [
       "{'kind': 'youtube#comment',\n",
       " 'etag': '2W65SK9Rq3J-LCgj9Zka2MxYC_s',\n",
       " 'id': 'Ugx365--jk4WSqtsdO14AaABAg.9yEBPJSu2169yELPQoNoH_',\n",
       " 'snippet': {'channelId': 'UC1soWWg79S9TUdSjzAHHftw',\n",
       "  'videoId': '-XcGW_L1N0k',\n",
       "  'textDisplay': 'Your video is going to be banded.  Americans is not suppose to know how great other countries are!',\n",
       "  'textOriginal': 'Your video is going to be banded.  Americans is not suppose to know how great other countries are!',\n",
       "  'parentId': 'Ugx365--jk4WSqtsdO14AaABAg',\n",
       "  'authorDisplayName': '@Asian_Connection',\n",
       "  'authorProfileImageUrl': 'https://yt3.ggpht.com/EFQEWV5G5EEQU2uuUntVArtHThFIMRDFL8HrPdV1jYm_aDS9vssGt4_cFDV_qRK2fq_HCly8=s48-c-k-c0x00ffffff-no-rj',\n",
       "  'authorChannelUrl': 'http://www.youtube.com/@Asian_Connection',\n",
       "  'authorChannelId': {'value': 'UC2oV2ooEoEwSanCB8jSvGnA'},\n",
       "  'canRate': True,\n",
       "  'viewerRating': 'none',\n",
       "  'likeCount': 49,\n",
       "  'publishedAt': '2023-12-12T18:29:20Z',\n",
       "  'updatedAt': '2023-12-12T18:29:20Z'}}"
      ]
     },
     "execution_count": 8,
     "metadata": {},
     "output_type": "execute_result"
    }
   ],
   "source": [
    "tmp = df.iloc[0,4]\n",
    "\n",
    "tmp.get(\"comments\")[0]"
   ]
  },
  {
   "cell_type": "code",
   "execution_count": 9,
   "metadata": {},
   "outputs": [
    {
     "data": {
      "text/html": [
       "<div>\n",
       "<style scoped>\n",
       "    .dataframe tbody tr th:only-of-type {\n",
       "        vertical-align: middle;\n",
       "    }\n",
       "\n",
       "    .dataframe tbody tr th {\n",
       "        vertical-align: top;\n",
       "    }\n",
       "\n",
       "    .dataframe thead th {\n",
       "        text-align: right;\n",
       "    }\n",
       "</style>\n",
       "<table border=\"1\" class=\"dataframe\">\n",
       "  <thead>\n",
       "    <tr style=\"text-align: right;\">\n",
       "      <th></th>\n",
       "      <th>video_id</th>\n",
       "      <th>content</th>\n",
       "      <th>review_id</th>\n",
       "      <th>parent_id</th>\n",
       "      <th>reviewer_name</th>\n",
       "      <th>published_time</th>\n",
       "      <th>updated_time</th>\n",
       "      <th>total_reply_count</th>\n",
       "      <th>level</th>\n",
       "      <th>likecount</th>\n",
       "    </tr>\n",
       "  </thead>\n",
       "  <tbody>\n",
       "    <tr>\n",
       "      <th>0</th>\n",
       "      <td>-XcGW_L1N0k</td>\n",
       "      <td>Your video is going to be banded.  Americans i...</td>\n",
       "      <td>Ugx365--jk4WSqtsdO14AaABAg.9yEBPJSu2169yELPQoNoH_</td>\n",
       "      <td>Ugx365--jk4WSqtsdO14AaABAg</td>\n",
       "      <td>@Asian_Connection</td>\n",
       "      <td>2023-12-12T18:29:20Z</td>\n",
       "      <td>2023-12-12T18:29:20Z</td>\n",
       "      <td>0</td>\n",
       "      <td>2</td>\n",
       "      <td>49</td>\n",
       "    </tr>\n",
       "    <tr>\n",
       "      <th>1</th>\n",
       "      <td>-XcGW_L1N0k</td>\n",
       "      <td>By reading through the policy details, looks l...</td>\n",
       "      <td>Ugx365--jk4WSqtsdO14AaABAg.9yEBPJSu2169yEUOfTALe-</td>\n",
       "      <td>Ugx365--jk4WSqtsdO14AaABAg</td>\n",
       "      <td>@joey3291</td>\n",
       "      <td>2023-12-12T19:47:53Z</td>\n",
       "      <td>2023-12-12T19:47:53Z</td>\n",
       "      <td>0</td>\n",
       "      <td>2</td>\n",
       "      <td>11</td>\n",
       "    </tr>\n",
       "    <tr>\n",
       "      <th>2</th>\n",
       "      <td>-XcGW_L1N0k</td>\n",
       "      <td>answer from AI: Under the 144-hour visa-free t...</td>\n",
       "      <td>Ugx365--jk4WSqtsdO14AaABAg.9yEBPJSu2169yEVr8OO8wH</td>\n",
       "      <td>Ugx365--jk4WSqtsdO14AaABAg</td>\n",
       "      <td>@joey3291</td>\n",
       "      <td>2023-12-12T20:00:39Z</td>\n",
       "      <td>2023-12-12T20:00:39Z</td>\n",
       "      <td>0</td>\n",
       "      <td>2</td>\n",
       "      <td>6</td>\n",
       "    </tr>\n",
       "  </tbody>\n",
       "</table>\n",
       "</div>"
      ],
      "text/plain": [
       "      video_id                                            content  \\\n",
       "0  -XcGW_L1N0k  Your video is going to be banded.  Americans i...   \n",
       "1  -XcGW_L1N0k  By reading through the policy details, looks l...   \n",
       "2  -XcGW_L1N0k  answer from AI: Under the 144-hour visa-free t...   \n",
       "\n",
       "                                           review_id  \\\n",
       "0  Ugx365--jk4WSqtsdO14AaABAg.9yEBPJSu2169yELPQoNoH_   \n",
       "1  Ugx365--jk4WSqtsdO14AaABAg.9yEBPJSu2169yEUOfTALe-   \n",
       "2  Ugx365--jk4WSqtsdO14AaABAg.9yEBPJSu2169yEVr8OO8wH   \n",
       "\n",
       "                    parent_id      reviewer_name        published_time  \\\n",
       "0  Ugx365--jk4WSqtsdO14AaABAg  @Asian_Connection  2023-12-12T18:29:20Z   \n",
       "1  Ugx365--jk4WSqtsdO14AaABAg          @joey3291  2023-12-12T19:47:53Z   \n",
       "2  Ugx365--jk4WSqtsdO14AaABAg          @joey3291  2023-12-12T20:00:39Z   \n",
       "\n",
       "           updated_time  total_reply_count  level  likecount  \n",
       "0  2023-12-12T18:29:20Z                  0      2         49  \n",
       "1  2023-12-12T19:47:53Z                  0      2         11  \n",
       "2  2023-12-12T20:00:39Z                  0      2          6  "
      ]
     },
     "execution_count": 9,
     "metadata": {},
     "output_type": "execute_result"
    }
   ],
   "source": [
    "def get_reply(df_raw):\n",
    "    df_output = pd.DataFrame()\n",
    "    replies_list = df.loc[~df[\"replies\"].isnull(), \"replies\"]\n",
    "    if len(replies_list) == 0:\n",
    "        print(\"No replies in this df_raw.\")\n",
    "        return\n",
    "    for x in replies_list:\n",
    "        x = x.get(\"comments\")\n",
    "        for reply in x:\n",
    "            y = pd.Series()\n",
    "            y[\"video_id\"] = reply.get(\"snippet\").get(\"videoId\")\n",
    "            y[\"content\"] = reply.get(\"snippet\").get(\"textDisplay\")\n",
    "            y[\"review_id\"] =  reply.get(\"id\")\n",
    "            y[\"parent_id\"] = reply.get(\"snippet\").get(\"parentId\")  # 应为是2级评论，所以有parent_id\n",
    "            y[\"reviewer_name\"] = reply.get(\"snippet\").get(\"authorDisplayName\")\n",
    "            y[\"published_time\"] = reply.get(\"snippet\").get(\"publishedAt\")\n",
    "            y[\"updated_time\"] = reply.get(\"snippet\").get(\"updatedAt\")\n",
    "            y[\"total_reply_count\"] = 0  # 应为是二级评论，没有对他们回复，所以total_reply_count为0\n",
    "            y[\"level\"] = 2    # 应为都是对顶级评论的回复，所以都是二级（后续在其中鉴别三级的）\n",
    "            y[\"likecount\"]  = reply.get(\"snippet\").get(\"likeCount\")\n",
    "            df_output = df_output._append(y,ignore_index=True)\n",
    "    return df_output\n",
    "\n",
    "\n",
    "df_replies = get_reply(df)\n",
    "df_replies.head(3)"
   ]
  },
  {
   "cell_type": "code",
   "execution_count": 10,
   "metadata": {},
   "outputs": [
    {
     "data": {
      "text/html": [
       "<div>\n",
       "<style scoped>\n",
       "    .dataframe tbody tr th:only-of-type {\n",
       "        vertical-align: middle;\n",
       "    }\n",
       "\n",
       "    .dataframe tbody tr th {\n",
       "        vertical-align: top;\n",
       "    }\n",
       "\n",
       "    .dataframe thead th {\n",
       "        text-align: right;\n",
       "    }\n",
       "</style>\n",
       "<table border=\"1\" class=\"dataframe\">\n",
       "  <thead>\n",
       "    <tr style=\"text-align: right;\">\n",
       "      <th></th>\n",
       "      <th>video_id</th>\n",
       "      <th>content</th>\n",
       "      <th>review_id</th>\n",
       "      <th>parent_id</th>\n",
       "      <th>reviewer_name</th>\n",
       "      <th>published_time</th>\n",
       "      <th>updated_time</th>\n",
       "      <th>total_reply_count</th>\n",
       "      <th>level</th>\n",
       "      <th>likecount</th>\n",
       "    </tr>\n",
       "  </thead>\n",
       "  <tbody>\n",
       "    <tr>\n",
       "      <th>0</th>\n",
       "      <td>-XcGW_L1N0k</td>\n",
       "      <td>Thanks for watching&lt;a href=\"UC1soWWg79S9TUdSjz...</td>\n",
       "      <td>Ugx365--jk4WSqtsdO14AaABAg</td>\n",
       "      <td>0</td>\n",
       "      <td>@JetLagWarriors</td>\n",
       "      <td>2023-12-12T17:01:57Z</td>\n",
       "      <td>2023-12-15T16:58:14Z</td>\n",
       "      <td>69</td>\n",
       "      <td>1</td>\n",
       "      <td>476</td>\n",
       "    </tr>\n",
       "    <tr>\n",
       "      <th>1</th>\n",
       "      <td>-XcGW_L1N0k</td>\n",
       "      <td>China has alot to offer as a travel destinatio...</td>\n",
       "      <td>Ugzlz1-2S8BB6B-onVh4AaABAg</td>\n",
       "      <td>0</td>\n",
       "      <td>@dunkierookie970</td>\n",
       "      <td>2023-12-12T13:50:11Z</td>\n",
       "      <td>2023-12-12T16:58:25Z</td>\n",
       "      <td>569</td>\n",
       "      <td>1</td>\n",
       "      <td>3449</td>\n",
       "    </tr>\n",
       "    <tr>\n",
       "      <th>2</th>\n",
       "      <td>-XcGW_L1N0k</td>\n",
       "      <td>In Tokyo, there are also many cameras on the s...</td>\n",
       "      <td>UgyelK4yZ9kg_K17jSZ4AaABAg</td>\n",
       "      <td>0</td>\n",
       "      <td>@shinha</td>\n",
       "      <td>2023-12-12T15:41:11Z</td>\n",
       "      <td>2023-12-12T15:41:11Z</td>\n",
       "      <td>370</td>\n",
       "      <td>1</td>\n",
       "      <td>2627</td>\n",
       "    </tr>\n",
       "    <tr>\n",
       "      <th>3</th>\n",
       "      <td>-XcGW_L1N0k</td>\n",
       "      <td>I go to China every year. Chinese cities are v...</td>\n",
       "      <td>UgziXalu_BzOKodbxXZ4AaABAg</td>\n",
       "      <td>0</td>\n",
       "      <td>@yvesklein8197</td>\n",
       "      <td>2024-03-07T06:58:07Z</td>\n",
       "      <td>2024-03-07T06:58:07Z</td>\n",
       "      <td>28</td>\n",
       "      <td>1</td>\n",
       "      <td>174</td>\n",
       "    </tr>\n",
       "    <tr>\n",
       "      <th>4</th>\n",
       "      <td>-XcGW_L1N0k</td>\n",
       "      <td>我相信任何人来了中国,感受这片土地感受的文化底蕴都会被所吸引，充分感受了各地不同的风景后无法...</td>\n",
       "      <td>Ugz82CgNmEQXqP5aZ8d4AaABAg</td>\n",
       "      <td>0</td>\n",
       "      <td>@muye4244</td>\n",
       "      <td>2024-02-27T23:49:55Z</td>\n",
       "      <td>2024-02-27T23:49:55Z</td>\n",
       "      <td>0</td>\n",
       "      <td>1</td>\n",
       "      <td>4</td>\n",
       "    </tr>\n",
       "  </tbody>\n",
       "</table>\n",
       "</div>"
      ],
      "text/plain": [
       "      video_id                                            content  \\\n",
       "0  -XcGW_L1N0k  Thanks for watching<a href=\"UC1soWWg79S9TUdSjz...   \n",
       "1  -XcGW_L1N0k  China has alot to offer as a travel destinatio...   \n",
       "2  -XcGW_L1N0k  In Tokyo, there are also many cameras on the s...   \n",
       "3  -XcGW_L1N0k  I go to China every year. Chinese cities are v...   \n",
       "4  -XcGW_L1N0k  我相信任何人来了中国,感受这片土地感受的文化底蕴都会被所吸引，充分感受了各地不同的风景后无法...   \n",
       "\n",
       "                    review_id parent_id     reviewer_name  \\\n",
       "0  Ugx365--jk4WSqtsdO14AaABAg         0   @JetLagWarriors   \n",
       "1  Ugzlz1-2S8BB6B-onVh4AaABAg         0  @dunkierookie970   \n",
       "2  UgyelK4yZ9kg_K17jSZ4AaABAg         0           @shinha   \n",
       "3  UgziXalu_BzOKodbxXZ4AaABAg         0    @yvesklein8197   \n",
       "4  Ugz82CgNmEQXqP5aZ8d4AaABAg         0         @muye4244   \n",
       "\n",
       "         published_time          updated_time  total_reply_count  level  \\\n",
       "0  2023-12-12T17:01:57Z  2023-12-15T16:58:14Z                 69      1   \n",
       "1  2023-12-12T13:50:11Z  2023-12-12T16:58:25Z                569      1   \n",
       "2  2023-12-12T15:41:11Z  2023-12-12T15:41:11Z                370      1   \n",
       "3  2024-03-07T06:58:07Z  2024-03-07T06:58:07Z                 28      1   \n",
       "4  2024-02-27T23:49:55Z  2024-02-27T23:49:55Z                  0      1   \n",
       "\n",
       "   likecount  \n",
       "0        476  \n",
       "1       3449  \n",
       "2       2627  \n",
       "3        174  \n",
       "4          4  "
      ]
     },
     "execution_count": 10,
     "metadata": {},
     "output_type": "execute_result"
    }
   ],
   "source": [
    "df_final = pd.concat([df_basic,df_replies])\n",
    "df_final.head()"
   ]
  },
  {
   "cell_type": "code",
   "execution_count": 15,
   "metadata": {},
   "outputs": [
    {
     "name": "stdout",
     "output_type": "stream",
     "text": [
      "<class 'pandas.core.frame.DataFrame'>\n",
      "Index: 7836 entries, 0 to 4364\n",
      "Data columns (total 10 columns):\n",
      " #   Column             Non-Null Count  Dtype \n",
      "---  ------             --------------  ----- \n",
      " 0   video_id           7836 non-null   object\n",
      " 1   content            7836 non-null   object\n",
      " 2   review_id          7836 non-null   object\n",
      " 3   parent_id          7836 non-null   object\n",
      " 4   reviewer_name      7836 non-null   object\n",
      " 5   published_time     7836 non-null   object\n",
      " 6   updated_time       7836 non-null   object\n",
      " 7   total_reply_count  7836 non-null   int64 \n",
      " 8   level              7836 non-null   int64 \n",
      " 9   likecount          7836 non-null   int64 \n",
      "dtypes: int64(3), object(7)\n",
      "memory usage: 673.4+ KB\n"
     ]
    }
   ],
   "source": [
    "df_final.info()"
   ]
  },
  {
   "cell_type": "code",
   "execution_count": 11,
   "metadata": {},
   "outputs": [],
   "source": [
    "# df_final.to_excel(\"comment_final.xlsx\", index=False)"
   ]
  },
  {
   "cell_type": "markdown",
   "metadata": {},
   "source": [
    "# 识别回复中可能的二级评论"
   ]
  },
  {
   "cell_type": "code",
   "execution_count": 12,
   "metadata": {},
   "outputs": [],
   "source": [
    "# df_replies.loc[lambda x :x[\"content\"].str.contains(\"@\"),:][\"content\"].to_dict()"
   ]
  },
  {
   "cell_type": "code",
   "execution_count": null,
   "metadata": {},
   "outputs": [],
   "source": []
  }
 ],
 "metadata": {
  "kernelspec": {
   "display_name": "scrap",
   "language": "python",
   "name": "python3"
  },
  "language_info": {
   "codemirror_mode": {
    "name": "ipython",
    "version": 3
   },
   "file_extension": ".py",
   "mimetype": "text/x-python",
   "name": "python",
   "nbconvert_exporter": "python",
   "pygments_lexer": "ipython3",
   "version": "3.10.14"
  }
 },
 "nbformat": 4,
 "nbformat_minor": 2
}
